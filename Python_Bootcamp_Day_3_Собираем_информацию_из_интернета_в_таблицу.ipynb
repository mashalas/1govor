{
  "nbformat": 4,
  "nbformat_minor": 0,
  "metadata": {
    "colab": {
      "provenance": [],
      "collapsed_sections": [
        "qclCXUNJEs3M"
      ],
      "include_colab_link": true
    },
    "kernelspec": {
      "name": "python3",
      "display_name": "Python 3"
    },
    "language_info": {
      "name": "python"
    }
  },
  "cells": [
    {
      "cell_type": "markdown",
      "metadata": {
        "id": "view-in-github",
        "colab_type": "text"
      },
      "source": [
        "<a href=\"https://colab.research.google.com/github/mashalas/1govor/blob/main/Python_Bootcamp_Day_3_%D0%A1%D0%BE%D0%B1%D0%B8%D1%80%D0%B0%D0%B5%D0%BC_%D0%B8%D0%BD%D1%84%D0%BE%D1%80%D0%BC%D0%B0%D1%86%D0%B8%D1%8E_%D0%B8%D0%B7_%D0%B8%D0%BD%D1%82%D0%B5%D1%80%D0%BD%D0%B5%D1%82%D0%B0_%D0%B2_%D1%82%D0%B0%D0%B1%D0%BB%D0%B8%D1%86%D1%83.ipynb\" target=\"_parent\"><img src=\"https://colab.research.google.com/assets/colab-badge.svg\" alt=\"Open In Colab\"/></a>"
      ]
    },
    {
      "cell_type": "markdown",
      "source": [
        "# Задача: собрать в таблицу информацию о вебинарах по Python от Skillbox"
      ],
      "metadata": {
        "id": "g-vOOZ9pTFvb"
      }
    },
    {
      "cell_type": "markdown",
      "source": [
        "[Ссылка](https://colab.research.google.com/drive/1dkkjytDfi-5xFTN7F7Smxzf_lvRpNYTE?usp=sharing) на заполненную рабочую тетрадь\n",
        "\n",
        "[Ссылка](https://colab.research.google.com/drive/1odrq97MKZHByxKpAO6r7Rt3kqBdTiE-j?usp=sharing) на новую рабочую тетрадь\n",
        "\n",
        "[Презентация](https://docs.google.com/presentation/d/1O2POeEA6fcRRONHDuez9QyMbW07kZ5yXgOZXB_WfIv0/edit?usp=sharing)"
      ],
      "metadata": {
        "id": "tP7JP2-MFQpN"
      }
    },
    {
      "cell_type": "markdown",
      "source": [
        "<img src='https://drive.google.com/uc?export=view&id=1SScqXZkrlZgJW2nnTTsOtvZrpVQ21nAJ' height=180 border='0' alt='План: скачиваем HTML-страницу, выделяем информацию по тегам, сохраняем в таблицу'>"
      ],
      "metadata": {
        "id": "APTR-wWSNMVe"
      }
    },
    {
      "cell_type": "markdown",
      "source": [
        "**Парсинг** (parsing) — выделение значимых элементов из информации\n",
        "\n",
        "<img src='https://drive.google.com/uc?export=view&id=1vhRLCqfD8PYdx7_2UH2LBoKG_a7frPXz' height=200 border='0' alt='Парсинг - процесс перевода неструктурированной информации в таблицу'>"
      ],
      "metadata": {
        "id": "uWXs5baEM5b1"
      }
    },
    {
      "cell_type": "markdown",
      "source": [
        "# 1. Учимся программно создавать таблицы"
      ],
      "metadata": {
        "id": "niUCuqSMNWll"
      }
    },
    {
      "cell_type": "markdown",
      "source": [
        "Библиотека [OpenPyXL](https://openpyxl.readthedocs.io/en/stable/usage.html) позволяет читать и записывать таблицы Excel\n",
        "\n",
        "<img src='https://drive.google.com/uc?export=view&id=1eblCr1Db00KPPijXS135cHXblVThF3pp' height=130 border='0' alt=''>"
      ],
      "metadata": {
        "id": "nNYeCVOVNYM8"
      }
    },
    {
      "cell_type": "markdown",
      "source": [
        "**Список** позволяет хранить несколько значений. В том числе — другие списки.\n",
        "Для сохранения данных в Excel нам нужно сформировать таблицу в виде **списка строк**, где **строка** сама является списком - списком значений ячеек\n"
      ],
      "metadata": {
        "id": "5QlSXYt9ODD5"
      }
    },
    {
      "cell_type": "code",
      "source": [
        "from openpyxl import Workbook"
      ],
      "metadata": {
        "id": "WstnU93zOLee"
      },
      "execution_count": null,
      "outputs": []
    },
    {
      "cell_type": "code",
      "source": [
        "table = [[1, 2, 3], [4, 5, 6]]"
      ],
      "metadata": {
        "id": "T8_z4ujYNAvX"
      },
      "execution_count": null,
      "outputs": []
    },
    {
      "cell_type": "code",
      "source": [
        "# Создаем объект \"книги\"\n",
        "work_book = Workbook()\n",
        "\n",
        "# Создаем объект \"листа\"\n",
        "work_sheet = work_book.active\n",
        "\n",
        "# Для каждой строки row в списке table: присоединить строку к листу\n",
        "for row in table:\n",
        "    ..."
      ],
      "metadata": {
        "id": "jUbZdU1bNU8a"
      },
      "execution_count": null,
      "outputs": []
    },
    {
      "cell_type": "code",
      "source": [
        "work_book.save('table.xlsx')"
      ],
      "metadata": {
        "id": "5hI1h1T_q_ia"
      },
      "execution_count": null,
      "outputs": []
    },
    {
      "cell_type": "markdown",
      "source": [
        "## Автоматическая генерация списков"
      ],
      "metadata": {
        "id": "2YDsPG4rjRJS"
      }
    },
    {
      "cell_type": "markdown",
      "source": [
        "Ключевое слово `for` означает повторение действия над каждым элементом из коллекции, например, списка.\n",
        "\n",
        "Скрипт, который будет выполняться для каждого элемента, обозначается отступом вначале строки и называется.\n",
        "\n",
        "Такая конструкция называется **цикл**."
      ],
      "metadata": {
        "id": "35x7yFaRjW8B"
      }
    },
    {
      "cell_type": "code",
      "source": [
        "numbers = [1, 2, 3]\n",
        "\n",
        "for elem in numbers:\n",
        "    ..."
      ],
      "metadata": {
        "id": "QvQjfG3VnQz_"
      },
      "execution_count": null,
      "outputs": []
    },
    {
      "cell_type": "markdown",
      "source": [
        "Сгенерируем таблицу атоматически"
      ],
      "metadata": {
        "id": "O0IW-o-3nvZR"
      }
    },
    {
      "cell_type": "code",
      "source": [
        "work_book = Workbook()\n",
        "work_sheet = work_book.active\n",
        "\n",
        "# Коллекция для генерации таблицы\n",
        "numbers = [1, 2, 3, 4, 5]\n",
        "\n",
        "for elem in numbers:\n",
        "    ...\n",
        "\n",
        "work_book.save('numbers.xlsx')"
      ],
      "metadata": {
        "id": "S04OcC7Mn2mN"
      },
      "execution_count": null,
      "outputs": []
    },
    {
      "cell_type": "markdown",
      "source": [
        "# 2. Загружаем интернет-страницу"
      ],
      "metadata": {
        "id": "HWlEePJ8Ptvo"
      }
    },
    {
      "cell_type": "code",
      "source": [
        "import requests\n",
        "\n",
        "web_page = requests.get('https://live.skillbox.ru/playlists/code/python/')\n",
        "\n",
        "web_page.text"
      ],
      "metadata": {
        "id": "LeEGZAeYQCbz"
      },
      "execution_count": null,
      "outputs": []
    },
    {
      "cell_type": "markdown",
      "source": [
        "Код страницы можно посмотреть в некоторых браузерах (Yandex Browser, Chrome)  по клавише **F12**"
      ],
      "metadata": {
        "id": "A4Z08tyXTqKM"
      }
    },
    {
      "cell_type": "markdown",
      "source": [
        "<h1><span style=\"color:#000000; font-family:Arial\"><span style=\"font-size:24px\"><strong>HTML - что представляют из себя интернет страницы</strong></span></span></h1>\n",
        "\n",
        "<p><span style=\"font-size:16pt\"><span style=\"font-family:Arial\"><span style=\"color:#000000\"><strong>HTML</strong></span></span></span><span style=\"font-size:16pt\"><span style=\"font-family:Arial\"><span style=\"color:#000000\"> (HyperText Markup Language) - язык разметки для веб-страниц</span></span></span></p>\n",
        "\n",
        "<p><span style=\"font-size:16pt\"><span style=\"font-family:Arial\"><span style=\"color:#000000\">Пример: таблицы</span></span></span></p>\n",
        "\n",
        "<table border=\"1\" cellpadding=\"1\" cellspacing=\"1\" style=\"width:295px\">\n",
        "   <tbody>\n",
        "       <tr>\n",
        "           <td style=\"width:106px\">&lt;table&gt;&lt;/table&gt;</td>\n",
        "           <td style=\"width:173px\">Заголовок таблицы</td>\n",
        "       </tr>\n",
        "       <tr>\n",
        "           <td style=\"width:106px\">&lt;tr&gt;&lt;/tr&gt;</td>\n",
        "           <td style=\"width:173px\">Границы строки</td>\n",
        "       </tr>\n",
        "       <tr>\n",
        "           <td style=\"width:106px\">&lt;td&gt;&lt;/td&gt;</td>\n",
        "           <td style=\"width:173px\">Границы ячейки</td>\n",
        "       </tr>\n",
        "   </tbody>\n",
        "</table>\n"
      ],
      "metadata": {
        "id": "l7h6kqLWTRsO"
      }
    },
    {
      "cell_type": "markdown",
      "source": [
        "Разобрать HTML-страницу для работы программы можно с помощью библиотеки [BeautifulSoup](https://pypi.org/project/beautifulsoup4/)"
      ],
      "metadata": {
        "id": "dy40OR6pUDJf"
      }
    },
    {
      "cell_type": "markdown",
      "source": [
        "# 3. Парсим HTML"
      ],
      "metadata": {
        "id": "DFBi7nVjTbjX"
      }
    },
    {
      "cell_type": "code",
      "source": [
        "from bs4 import BeautifulSoup"
      ],
      "metadata": {
        "id": "dR63NugsSTxi"
      },
      "execution_count": null,
      "outputs": []
    },
    {
      "cell_type": "code",
      "source": [
        "soup = BeautifulSoup(web_page.text, 'html.parser')"
      ],
      "metadata": {
        "id": "3vu5LdYcUOFR"
      },
      "execution_count": null,
      "outputs": []
    },
    {
      "cell_type": "code",
      "source": [
        "# soup"
      ],
      "metadata": {
        "id": "s5eTAaeXUh72"
      },
      "execution_count": null,
      "outputs": []
    },
    {
      "cell_type": "markdown",
      "source": [
        "❗ HTML-код страниц в интернете может измениться - такое нередко случается. Например, с момента записи видео-урока название класса `playlist-inner-cardtitle hover-cardtext playlist-inner-card__title--big` изменилось на `playlist-inner-card__link-text` (здесь и далее в рабочей тетради новая версия).\n",
        "\n",
        "Актуальные названия классов можно посмотреть в коде HTML-код страницы, которую хотите парсить.\n",
        "\n",
        "```html\n",
        "<li class=\"playlist-inner__item\">\n",
        "    <a href=\"/webinars/code/pishem-interfeis-messendzhera-na-python060523/\" class=\"playlist-inner-card__link\">\n",
        "    <div class=\"playlist-inner-card__wrapper hover-card__wrapper playlist-inner-card__wrapper--small\">\n",
        "        <h2 class=\"playlist-inner-card__link-text\">Пишем интерфейс мессенджера на Python</h2>\n",
        "        <div class=\"playlist-inner-card__small-info\">\n",
        "            <svg width=\"14\" height=\"14\" aria-hidden=\"true\" xmlns=\"http://www.w3.org/2000/svg\" class=\"playlist-inner-card__play-icon icon sprite-icons\">\n",
        "            <use href=\"/_nuxt/190b9d350c38367598ecb8701a41bb7e.svg#i-play\" xlink:href=\"/_nuxt/190b9d350c38367598ecb8701a41bb7e.svg#i-play\">\n",
        "            </use>\n",
        "            </svg>\n",
        "\n",
        "      Видео, 01:51:00\n",
        "        </div>\n",
        "    </div>\n",
        "    </a>\n",
        "</li>\n",
        "```\n"
      ],
      "metadata": {
        "id": "gqInQRz2bFb7"
      }
    },
    {
      "cell_type": "markdown",
      "source": [
        "## 3.1. Ищем информацию о названии"
      ],
      "metadata": {
        "id": "n-iDjcy_f69V"
      }
    },
    {
      "cell_type": "markdown",
      "source": [
        "\n",
        "```html\n",
        "   <h2 class=\"playlist-inner-card__link-text\">\n",
        "    Пишем интерфейс мессенджера на Python\n",
        "   </h2>\n",
        "```\n",
        "\n",
        "Ищем нужную запись по имени класса `(class_='...')` и извлекаем текст (`.text`)"
      ],
      "metadata": {
        "id": "MVFYMGgigDno"
      }
    },
    {
      "cell_type": "code",
      "source": [
        "soup.find(class_='playlist-inner-card__link-text').text"
      ],
      "metadata": {
        "id": "nz_zvDmAf9Ea"
      },
      "execution_count": null,
      "outputs": []
    },
    {
      "cell_type": "markdown",
      "source": [
        "## 3.2. Ищем информацию о ссылке на видео"
      ],
      "metadata": {
        "id": "ttLss8jed9JT"
      }
    },
    {
      "cell_type": "markdown",
      "source": [
        "```html\n",
        "<a class=\"playlist-inner-card__link\" href=\"/webinars/code/pishem-interfeis-messendzhera-na-python150323/\">\n",
        "```\n",
        "\n",
        "Ищем нужную запись по имени класса и из атрибутов `.attrs` извлекаем атрибут `'href'`"
      ],
      "metadata": {
        "id": "IKM5TzVXeLMX"
      }
    },
    {
      "cell_type": "code",
      "source": [],
      "metadata": {
        "id": "6Y2GGlboZ-l5"
      },
      "execution_count": null,
      "outputs": []
    },
    {
      "cell_type": "markdown",
      "source": [
        "Вебинары располагаются на странице 'https://live.skillbox.ru/', поэтому добавим базовую страницу к ссылке.\n",
        "\n",
        "Чтобы приписать один текст за другим в Python используется оператор `+`"
      ],
      "metadata": {
        "id": "0nWroNbLe__e"
      }
    },
    {
      "cell_type": "code",
      "source": [
        "relative_url = ...\n",
        "\n",
        "abs_url = ...\n",
        "\n",
        "abs_url"
      ],
      "metadata": {
        "colab": {
          "base_uri": "https://localhost:8080/",
          "height": 36
        },
        "id": "asDYd9AvaxpF",
        "outputId": "e115a048-717f-44f7-d0f0-d3df61a4e0cb"
      },
      "execution_count": null,
      "outputs": [
        {
          "output_type": "execute_result",
          "data": {
            "text/plain": [
              "'https://live.skillbox.ru/webinars/code/pishem-interfeis-messendzhera-na-python150323/'"
            ],
            "application/vnd.google.colaboratory.intrinsic+json": {
              "type": "string"
            }
          },
          "metadata": {},
          "execution_count": 73
        }
      ]
    },
    {
      "cell_type": "markdown",
      "source": [
        "## 3.3 Сохраняем нужную информацию в списки"
      ],
      "metadata": {
        "id": "Uv0Uzxbph6Ca"
      }
    },
    {
      "cell_type": "markdown",
      "source": [
        "\n",
        "Вспомним пример с таблицей чисел"
      ],
      "metadata": {
        "id": "wY53FP4ppSEy"
      }
    },
    {
      "cell_type": "code",
      "source": [
        "work_book = Workbook()\n",
        "work_sheet = work_book.active\n",
        "\n",
        "# Коллекция для генерации таблицы\n",
        "numbers = [1, 2, 3, 4, 5]\n",
        "\n",
        "for elem in numbers:\n",
        "    row = [elem, elem * 2, elem ** 2]\n",
        "    print(row)\n",
        "    work_sheet.append(row)\n",
        "\n",
        "work_book.save('numbers.xlsx')"
      ],
      "metadata": {
        "id": "GCvq08SupGG3"
      },
      "execution_count": null,
      "outputs": []
    },
    {
      "cell_type": "markdown",
      "source": [
        "Теперь вместо списка `numbers` у нас список содержания тегов `'playlist-inner__item'`\n",
        "\n",
        "Для поиска всех элементов, подходящих по критерию, используется функция `.find_all(...)`.\n",
        "\n",
        "* Названия видео лежат в классах под названием `'playlist-inner-card__link-text'`\n",
        "* Относительный путь к видео ищем по названию класса `'playlist-inner-card__link'` в атрибуте `'href'`\n",
        "* Для получения полного пути к видео добавляем вначале `'https://live.skillbox.ru'`"
      ],
      "metadata": {
        "id": "Ry_wZBjjpk7_"
      }
    },
    {
      "cell_type": "code",
      "source": [
        "work_book = Workbook()\n",
        "work_sheet = work_book.active\n",
        "\n",
        "items = soup.find_all(...)\n",
        "\n",
        "for elem in items:\n",
        "    title = elem.find(...).text\n",
        "    relative_url = elem.find(...).attrs['href']\n",
        "    url = 'https://live.skillbox.ru' + relative_url\n",
        "    row = [title, url]\n",
        "    print(row)\n",
        "    work_sheet.append(row)\n",
        "\n",
        "work_book.save('Вебинары про Python от Skillbox.xlsx')"
      ],
      "metadata": {
        "id": "25Xes7bKry4h"
      },
      "execution_count": null,
      "outputs": []
    },
    {
      "cell_type": "markdown",
      "source": [
        "# Домашнее задание\n",
        "\n",
        "Улучшите свой парсер, добавив в таблицу данные о длительности видео"
      ],
      "metadata": {
        "id": "k25FrESdDN0s"
      }
    },
    {
      "cell_type": "markdown",
      "source": [
        "## Подсказка"
      ],
      "metadata": {
        "id": "qclCXUNJEs3M"
      }
    },
    {
      "cell_type": "markdown",
      "source": [
        "* Посмотрите в HTML-коде страницы тег, где записана длительность видео\n",
        "* В каждую строку таблицы добавьте новый элемент"
      ],
      "metadata": {
        "id": "ybUVTo_dEokb"
      }
    }
  ]
}