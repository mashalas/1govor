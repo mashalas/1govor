{
  "nbformat": 4,
  "nbformat_minor": 0,
  "metadata": {
    "colab": {
      "provenance": [],
      "collapsed_sections": [
        "fbc1N1ZirxRo"
      ],
      "include_colab_link": true
    },
    "kernelspec": {
      "name": "python3",
      "display_name": "Python 3"
    },
    "language_info": {
      "name": "python"
    }
  },
  "cells": [
    {
      "cell_type": "markdown",
      "metadata": {
        "id": "view-in-github",
        "colab_type": "text"
      },
      "source": [
        "<a href=\"https://colab.research.google.com/github/mashalas/1govor/blob/main/Python_Bootcamp_Day_4_%D0%94%D0%B5%D0%BB%D0%B0%D0%B5%D0%BC_%D0%B2%D0%B5%D0%B1_%D1%81%D1%82%D1%80%D0%B0%D0%BD%D0%B8%D1%86%D1%83_%D0%BD%D0%B0_Flask.ipynb\" target=\"_parent\"><img src=\"https://colab.research.google.com/assets/colab-badge.svg\" alt=\"Open In Colab\"/></a>"
      ]
    },
    {
      "cell_type": "markdown",
      "source": [
        "[Презентация](https://https://docs.google.com/presentation/d/18iOEDygA_kz-INz75nCfjRLo4zUKVbPVAS5HsGmlDgg/edit?usp=sharing)"
      ],
      "metadata": {
        "id": "JnXiZwa_F6y5"
      }
    },
    {
      "cell_type": "markdown",
      "source": [
        "Пример HTML-кода"
      ],
      "metadata": {
        "id": "urrkMXvnsNhL"
      }
    },
    {
      "cell_type": "markdown",
      "source": [
        "<h1><span style=\"color:#000000; font-family:Arial\"><span style=\"font-size:24px\"><strong>HTML - что представляют из себя интернет страницы</strong></span></span></h1>\n",
        "\n",
        "<p><span style=\"font-size:16pt\"><span style=\"font-family:Arial\"><span style=\"color:#000000\"><strong>HTML</strong></span></span></span><span style=\"font-size:16pt\"><span style=\"font-family:Arial\"><span style=\"color:#000000\"> (HyperText Markup Language) - язык разметки для веб-страниц</span></span></span></p>\n",
        "\n",
        "<p><span style=\"font-size:16pt\"><span style=\"font-family:Arial\"><span style=\"color:#000000\">Пример: таблицы</span></span></span></p>\n",
        "\n",
        "<table border=\"1\" cellpadding=\"1\" cellspacing=\"1\" style=\"width:295px\">\n",
        "   <tbody>\n",
        "       <tr>\n",
        "           <td style=\"width:106px\">&lt;table&gt;&lt;/table&gt;</td>\n",
        "           <td style=\"width:173px\">Заголовок таблицы</td>\n",
        "       </tr>\n",
        "       <tr>\n",
        "           <td style=\"width:106px\">&lt;tr&gt;&lt;/tr&gt;</td>\n",
        "           <td style=\"width:173px\">Границы строки</td>\n",
        "       </tr>\n",
        "       <tr>\n",
        "           <td style=\"width:106px\">&lt;td&gt;&lt;/td&gt;</td>\n",
        "           <td style=\"width:173px\">Границы ячейки</td>\n",
        "       </tr>\n",
        "   </tbody>\n",
        "</table>\n"
      ],
      "metadata": {
        "id": "A6mO7GoQsK94"
      }
    },
    {
      "cell_type": "markdown",
      "source": [
        "\n",
        "\n",
        "---\n",
        "\n"
      ],
      "metadata": {
        "id": "_xsSOXclscb4"
      }
    },
    {
      "cell_type": "markdown",
      "source": [
        "Содержание файла **flask_app.py**"
      ],
      "metadata": {
        "id": "29Urg72miq5G"
      }
    },
    {
      "cell_type": "code",
      "source": [
        "from flask import Flask, render_template\n",
        "\n",
        "app = Flask(__name__)\n",
        "\n",
        "@app.route('/')\n",
        "def hello_world():\n",
        "   return '<h1>Hello from Skillbox!<h1>'\n",
        "\n",
        "@app.route('/hello/')\n",
        "@app.route('/hello/<name>')\n",
        "def hello(name=None):\n",
        "   return render_template('hello.html', name=name)"
      ],
      "metadata": {
        "id": "rfaktLA7iuMi"
      },
      "execution_count": null,
      "outputs": []
    },
    {
      "cell_type": "markdown",
      "source": [
        "\n",
        "\n",
        "---\n"
      ],
      "metadata": {
        "id": "GoR4ivIlsd9A"
      }
    },
    {
      "cell_type": "markdown",
      "source": [
        "Содержание файла **hello.html**"
      ],
      "metadata": {
        "id": "5wZd7NuRix60"
      }
    },
    {
      "cell_type": "code",
      "source": [
        "<!doctype html>\n",
        "<title>Hello from Skillbox</title>\n",
        "{% if name %}\n",
        "  <h1>Hello {{ name }}!</h1>\n",
        "{% else %}\n",
        "  <h1>Hello, World!</h1>\n",
        "{% endif %}"
      ],
      "metadata": {
        "id": "BeQvW7nyi4Mn"
      },
      "execution_count": null,
      "outputs": []
    },
    {
      "cell_type": "markdown",
      "source": [
        "## Домашнее задание\n",
        "\n",
        "Добавьте любую картинку на свой сайт."
      ],
      "metadata": {
        "id": "y67ohyoojYTG"
      }
    },
    {
      "cell_type": "markdown",
      "source": [
        "## Подсказка"
      ],
      "metadata": {
        "id": "fbc1N1ZirxRo"
      }
    },
    {
      "cell_type": "markdown",
      "source": [
        "* Вспомогательные файлы для шаблонов должны располагаться в папке static, которая должна быть добавлена в папку проекта mysite\n",
        "* HTML-тэг для изображения имеет вид:\n",
        "* <**img src**=\"/static/картинка.jpg\" и другие параметры>"
      ],
      "metadata": {
        "id": "eieivnR4zA56"
      }
    }
  ]
}